{
 "cells": [
  {
   "cell_type": "code",
   "execution_count": 1,
   "metadata": {},
   "outputs": [],
   "source": [
    "weights_ih = [[0.47970726567033584, -0.3006143784259968, -0.47545006300316545, 1.6331068411873864], [-0.08141299279525503, 0.44258630366833973, 0.6911385449305805, 1.393073040971639]]\n",
    "weights_ho = [[-0.613141482450804], [0.06426547096433358], [-0.38038860580984735], [0.3998021234750107]]\n",
    "bias_h = [0.4684485512269687, 0.9157071466082566, 0.851724339567979, 0.41359349992152417]\n",
    "bias_o = [0.3191049933999984]\n",
    "\n",
    "input_nodes = 2\n",
    "hidden_nodes = 4\n",
    "output_nodes = 1\n",
    "hidden = [0, 0, 0, 0]"
   ]
  },
  {
   "cell_type": "code",
   "execution_count": 2,
   "metadata": {},
   "outputs": [
    {
     "data": {
      "text/plain": [
       "0.3191049933999984"
      ]
     },
     "execution_count": 2,
     "metadata": {},
     "output_type": "execute_result"
    }
   ],
   "source": [
    "bias_o[0]"
   ]
  },
  {
   "cell_type": "code",
   "execution_count": 3,
   "metadata": {},
   "outputs": [],
   "source": [
    "\n",
    "# Define the sigmoid activation function\n",
    "def sigmoid(x):\n",
    "    return 1 / (1 + exp(-x))\n",
    "\n",
    "# Define the exp function\n",
    "def exp(x):\n",
    "    return 1 + x + (x**2)/2 + (x**3)/6 + (x**4)/24 + (x**5)/120\n",
    "\n",
    "    "
   ]
  },
  {
   "cell_type": "code",
   "execution_count": 4,
   "metadata": {},
   "outputs": [
    {
     "data": {
      "text/plain": [
       "0.7043269245738512"
      ]
     },
     "execution_count": 4,
     "metadata": {},
     "output_type": "execute_result"
    }
   ],
   "source": [
    "sigmoid(0.8667428493499756)"
   ]
  },
  {
   "cell_type": "code",
   "execution_count": 5,
   "metadata": {},
   "outputs": [],
   "source": [
    "def relu(x):\n",
    "    \"\"\"ReLU activation function implementation.\"\"\"\n",
    "    return max(0, x)\n",
    "\n",
    "def relu_vectorized(x):\n",
    "    \"\"\"Vectorized ReLU activation function implementation.\"\"\"\n",
    "    return [max(0, val) for val in x]\n"
   ]
  },
  {
   "cell_type": "code",
   "execution_count": 8,
   "metadata": {},
   "outputs": [
    {
     "ename": "SyntaxError",
     "evalue": "closing parenthesis ']' does not match opening parenthesis '(' (1775200858.py, line 9)",
     "output_type": "error",
     "traceback": [
      "\u001b[1;36m  Cell \u001b[1;32mIn[8], line 9\u001b[1;36m\u001b[0m\n\u001b[1;33m    hidden[i] = sigmoid(hidden_sum]\u001b[0m\n\u001b[1;37m                                  ^\u001b[0m\n\u001b[1;31mSyntaxError\u001b[0m\u001b[1;31m:\u001b[0m closing parenthesis ']' does not match opening parenthesis '('\n"
     ]
    }
   ],
   "source": [
    "def feedforward(inputs):\n",
    "    global weights_ih, weights_ho, bias_h, bias_o, input_nodes, hidden_nodes, output_nodes, hidden\n",
    "    # Calculate hidden layer\n",
    "    for i in range(hidden_nodes):\n",
    "        hidden_sum = 0\n",
    "        for j in range(input_nodes):\n",
    "            hidden_sum += inputs[j] * weights_ih[j][i]\n",
    "        hidden_sum += bias_h[i]\n",
    "        hidden[i] = sigmoid(hidden_sum)\n",
    "    # Calculate output layer\n",
    "    output = [0] * output_nodes\n",
    "    for i in range(output_nodes):\n",
    "        output_sum = 0\n",
    "        for j in range(hidden_nodes):\n",
    "            output_sum += hidden[j] * weights_ho[j][i]\n",
    "        output_sum += bias_o[i]\n",
    "        output[i] = sigmoid(output_sum)\n",
    "    print(output[0])\n",
    "    \n",
    "    return 1 if output[0] > 0.5 else 0"
   ]
  },
  {
   "cell_type": "code",
   "execution_count": 7,
   "metadata": {},
   "outputs": [
    {
     "name": "stdout",
     "output_type": "stream",
     "text": [
      "0.4904705617214544\n",
      "[0, 0] XOR [0, 0] = 0\n",
      "0.5107531527457015\n",
      "[0, 1] XOR [0, 1] = 1\n",
      "0.5183824594870917\n",
      "[1, 0] XOR [1, 0] = 1\n",
      "0.23714308988001348\n",
      "[1, 1] XOR [1, 1] = 0\n"
     ]
    }
   ],
   "source": [
    "inputs_list = [[0, 0], [0, 1], [1, 0], [1, 1]]\n",
    "\n",
    "for i in range(len(inputs_list)):\n",
    "    print(f'{inputs_list[i]} XOR {inputs_list[i]} = {feedforward(inputs_list[i])}')"
   ]
  }
 ],
 "metadata": {
  "kernelspec": {
   "display_name": "Python 3",
   "language": "python",
   "name": "python3"
  },
  "language_info": {
   "codemirror_mode": {
    "name": "ipython",
    "version": 3
   },
   "file_extension": ".py",
   "mimetype": "text/x-python",
   "name": "python",
   "nbconvert_exporter": "python",
   "pygments_lexer": "ipython3",
   "version": "3.11.2"
  },
  "orig_nbformat": 4
 },
 "nbformat": 4,
 "nbformat_minor": 2
}
